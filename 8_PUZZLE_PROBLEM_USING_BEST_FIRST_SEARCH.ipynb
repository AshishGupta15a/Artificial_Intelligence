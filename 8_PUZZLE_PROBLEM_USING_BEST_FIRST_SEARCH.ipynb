{
 "cells": [
  {
   "cell_type": "markdown",
   "id": "d1d0eb58",
   "metadata": {},
   "source": [
    "# 8 Puzzle Problem Using Best First Search"
   ]
  },
  {
   "cell_type": "code",
   "execution_count": 2,
   "id": "fc00d430",
   "metadata": {},
   "outputs": [
    {
     "name": "stdout",
     "output_type": "stream",
     "text": [
      "enter the start state matrix \n",
      "\n"
     ]
    },
    {
     "name": "stdin",
     "output_type": "stream",
     "text": [
      " 1 2 3\n",
      " _ 4 6\n",
      " 7 5 8\n"
     ]
    },
    {
     "name": "stdout",
     "output_type": "stream",
     "text": [
      "enter the goal state matrix \n",
      "\n"
     ]
    },
    {
     "name": "stdin",
     "output_type": "stream",
     "text": [
      " 1 2 3\n",
      " 4 5 6\n",
      " 7 8 _\n"
     ]
    },
    {
     "name": "stdout",
     "output_type": "stream",
     "text": [
      "\n",
      "\n",
      "\n",
      "\n",
      "\n",
      "1 2 3 \n",
      "_ 4 6 \n",
      "7 5 8 \n",
      "\n",
      "\n",
      "1 2 3 \n",
      "4 _ 6 \n",
      "7 5 8 \n",
      "\n",
      "\n",
      "1 2 3 \n",
      "4 5 6 \n",
      "7 _ 8 \n",
      "\n",
      "\n",
      "1 2 3 \n",
      "4 5 6 \n",
      "7 8 _ \n"
     ]
    }
   ],
   "source": [
    "class Node:\n",
    "    def __init__(self, data, level, fval):\n",
    "        self.data = data\n",
    "        self.level = level\n",
    "        self.fval = fval\n",
    "    def generate_child(self):\n",
    "        x, y = self.find(self.data, '_')\n",
    "        val_list = [[x, y - 1], [x, y + 1], [x - 1, y], [x + 1, y]]\n",
    "        children = []\n",
    "        for i in val_list:\n",
    "            child = self.shuffle(self.data, x, y, i[0], i[1])\n",
    "            if child is not None:\n",
    "                child_node = Node(child, self.level + 1, 0)\n",
    "                children.append(child_node)\n",
    "        return children\n",
    "    def shuffle(self, puz, x1, y1, x2, y2):\n",
    "        if x2 >= 0 and x2 < len(self.data) and y2 >= 0 and y2 < len(self.data):\n",
    "            temp_puz = []\n",
    "            temp_puz = self.copy(puz)\n",
    "            temp = temp_puz[x2][y2]\n",
    "            temp_puz[x2][y2] = temp_puz[x1][y1]\n",
    "            temp_puz[x1][y1] = temp\n",
    "            return temp_puz\n",
    "        else:\n",
    "            return None\n",
    "    def copy(self, root):\n",
    "        temp = []\n",
    "        for i in root:\n",
    "            t = []\n",
    "            for j in i:\n",
    "                t.append(j)\n",
    "            temp.append(t)\n",
    "        return temp\n",
    "    def find(self, puz, x):\n",
    "        for i in range(0, len(self.data)):\n",
    "            for j in range(0, len(self.data)):\n",
    "                if puz[i][j] == x:\n",
    "                    return i, j\n",
    "class Puzzle:\n",
    "    def __init__(self, size):\n",
    "        self.n = size\n",
    "        self.open = []\n",
    "        self.closed = []\n",
    "    def accept(self):\n",
    "        puz = []\n",
    "        for i in range(0, self.n):\n",
    "            temp = input().split(\" \")\n",
    "            puz.append(temp)\n",
    "        return puz\n",
    "    def f(self, start, goal):\n",
    "        return self.h(start.data, goal) + start.level\n",
    "    def h(self, start, goal):\n",
    "        temp = 0\n",
    "        for i in range(0, self.n):\n",
    "            for j in range(0, self.n):\n",
    "                if start[i][j] != goal[i][j] and start[i][j] != '_':\n",
    "                    temp += 1\n",
    "        return temp\n",
    "    def process(self):\n",
    "        print(\"enter the start state matrix \\n\")\n",
    "        start = self.accept()\n",
    "        print(\"enter the goal state matrix \\n\")\n",
    "        goal = self.accept()\n",
    "        start = Node(start, 0, 0)\n",
    "        start.fval = self.f(start, goal)\n",
    "        self.open.append(start)\n",
    "        print(\"\\n\\n\")\n",
    "        while True:\n",
    "            cur = self.open[0]\n",
    "            print(\"\\n\")\n",
    "            for i in cur.data:\n",
    "                for j in i:\n",
    "                    print(j, end=\" \")\n",
    "                print(\"\")\n",
    "            if (self.h(cur.data, goal) == 0):\n",
    "                break\n",
    "            for i in cur.generate_child():\n",
    "                i.fval = self.f(i, goal)\n",
    "                self.open.append(i)\n",
    "            self.closed.append(cur)\n",
    "            del self.open[0]\n",
    "            self.open.sort(key=lambda x: x.fval, reverse=False)\n",
    "puz = Puzzle(3)\n",
    "puz.process()\n"
   ]
  },
  {
   "cell_type": "code",
   "execution_count": null,
   "id": "b30ba46b",
   "metadata": {},
   "outputs": [],
   "source": []
  }
 ],
 "metadata": {
  "kernelspec": {
   "display_name": "Python 3 (ipykernel)",
   "language": "python",
   "name": "python3"
  },
  "language_info": {
   "codemirror_mode": {
    "name": "ipython",
    "version": 3
   },
   "file_extension": ".py",
   "mimetype": "text/x-python",
   "name": "python",
   "nbconvert_exporter": "python",
   "pygments_lexer": "ipython3",
   "version": "3.10.9"
  }
 },
 "nbformat": 4,
 "nbformat_minor": 5
}
