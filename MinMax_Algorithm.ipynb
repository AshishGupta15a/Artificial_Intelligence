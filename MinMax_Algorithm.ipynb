{
 "cells": [
  {
   "cell_type": "markdown",
   "id": "62081dde",
   "metadata": {},
   "source": [
    "# Min-Max Problem"
   ]
  },
  {
   "cell_type": "code",
   "execution_count": 7,
   "id": "f3d5de09",
   "metadata": {},
   "outputs": [
    {
     "name": "stdout",
     "output_type": "stream",
     "text": [
      "10\n",
      "-20\n"
     ]
    }
   ],
   "source": [
    "class Choice:\n",
    "    def __init__(a,left,right):\n",
    "        a.left=left\n",
    "        a.right=right\n",
    "class Terminal:\n",
    "    def __init__(a,value):\n",
    "        a.value=value\n",
    "tree=Choice(\n",
    "    Choice(Terminal(10),\n",
    "      Terminal(15),),\n",
    "    Choice(Terminal(-100),\n",
    "          Terminal(-20),))\n",
    "def min_max(tree,max_player):\n",
    "    if isinstance(tree,Choice):\n",
    "        lv=min_max(tree.left,not max_player)\n",
    "        rv=min_max(tree.right,not max_player)\n",
    "        if max_player:\n",
    "            return max(lv,rv)\n",
    "        else:\n",
    "            return min(lv,rv)\n",
    "    else:\n",
    "        return tree.value\n",
    "\n",
    "print(min_max(tree,True))\n",
    "print(min_max(tree,False))"
   ]
  },
  {
   "cell_type": "code",
   "execution_count": null,
   "id": "cb2f4601",
   "metadata": {},
   "outputs": [],
   "source": []
  }
 ],
 "metadata": {
  "kernelspec": {
   "display_name": "Python 3 (ipykernel)",
   "language": "python",
   "name": "python3"
  },
  "language_info": {
   "codemirror_mode": {
    "name": "ipython",
    "version": 3
   },
   "file_extension": ".py",
   "mimetype": "text/x-python",
   "name": "python",
   "nbconvert_exporter": "python",
   "pygments_lexer": "ipython3",
   "version": "3.10.9"
  }
 },
 "nbformat": 4,
 "nbformat_minor": 5
}
