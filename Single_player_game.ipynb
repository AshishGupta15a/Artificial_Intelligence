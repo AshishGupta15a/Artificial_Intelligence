{
 "cells": [
  {
   "cell_type": "markdown",
   "id": "6af112e7",
   "metadata": {},
   "source": [
    "# Single Player Game-Number Guessing Game"
   ]
  },
  {
   "cell_type": "code",
   "execution_count": 2,
   "id": "4c6613a0",
   "metadata": {},
   "outputs": [
    {
     "name": "stdout",
     "output_type": "stream",
     "text": [
      "Try to guess a Number between 1 and 100.\n",
      "\n",
      "What is your Guess ?\n",
      "34\n",
      "The number you have entered is low. Please try again.\n",
      "45\n",
      "The number you have entered is low. Please try again.\n",
      "67\n",
      "The number you have entered is low. Please try again.\n",
      "78\n",
      "The number you have entered is high. Please try again.\n",
      "70\n",
      "You have tried 5 guesses!\n",
      "The Number was 70\n",
      "\n",
      "Would you like to play the game again? Y/N\n",
      "n\n",
      "Thanks for playing! Thank You\n"
     ]
    }
   ],
   "source": [
    "import random\n",
    "def Single_Player_Game():\n",
    "    number = random.randint(1, 100)\n",
    "    guessed_count = 0\n",
    "    print(\"\\nWhat is your Guess ?\")\n",
    "    while True:\n",
    "        guessed_number = int(input())\n",
    "        guessed_count += 1\n",
    "        if guessed_number == number:\n",
    "            print(f\"You have tried {guessed_count} guesses!\")\n",
    "            print(f\"The Number was {number}\")      \n",
    "            break\n",
    "        if guessed_count == 10:\n",
    "            print(\"You have tried 10n\n",
    "                  guesses.\")\n",
    "            print(f\"You lost. The number was {number}\")\n",
    "            break\n",
    "        if guessed_number < number:\n",
    "            print(\"The number you have entered is low. Please try again.\")\n",
    "        elif guessed_number > number:\n",
    "            print(\"The number you have entered is high. Please try again.\")\n",
    "    print()\n",
    "\n",
    "def main():\n",
    "    print(\"Try to guess a Number between 1 and 100.\")\n",
    "    play_again = True\n",
    "    while play_again:\n",
    "        Single_Player_Game()\n",
    "        play_again_str = input(\"Would you like to play the game again? Y/N\\n\")\n",
    "        play_again = play_again_str.strip().upper() == \"Y\"\n",
    "    print(\"Thanks for playing! Thank You\")\n",
    "\n",
    "if __name__ == \"__main__\":\n",
    "    main()\n",
    "\n",
    "\n"
   ]
  },
  {
   "cell_type": "code",
   "execution_count": null,
   "id": "214f94be",
   "metadata": {},
   "outputs": [],
   "source": []
  }
 ],
 "metadata": {
  "kernelspec": {
   "display_name": "Python 3 (ipykernel)",
   "language": "python",
   "name": "python3"
  },
  "language_info": {
   "codemirror_mode": {
    "name": "ipython",
    "version": 3
   },
   "file_extension": ".py",
   "mimetype": "text/x-python",
   "name": "python",
   "nbconvert_exporter": "python",
   "pygments_lexer": "ipython3",
   "version": "3.10.9"
  }
 },
 "nbformat": 4,
 "nbformat_minor": 5
}
