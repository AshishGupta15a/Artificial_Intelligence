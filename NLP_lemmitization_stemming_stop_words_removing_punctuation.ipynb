{
 "cells": [
  {
   "cell_type": "code",
   "execution_count": 1,
   "id": "978f3f9d",
   "metadata": {},
   "outputs": [
    {
     "data": {
      "text/plain": [
       "'Natural language processing (NLP) is a machine learning technology that gives computers the ability to interpret, manipulate, and comprehend human language. Organizations today have large volumes of voice and text data from various communication channels like emails, text messages, social media newsfeeds, video, audio, and more. They use NLP software to automatically process this data, analyze the intent or sentiment in the message, and respond in real time to human communicatNatural language processing (NLP) is critical to fully and efficiently analyze text and speech data. It can work through the differences in dialects, slang, and grammatical irregularities typical in day-to-day conversations.\\n\\nCompanies use it for several automated tasks, such as to:\\nâ€¢    Process, analyze, and archive large documents\\nâ€¢    Analyze customer feedback or call center recordings\\nâ€¢    Run chatbots for automated customer service\\nâ€¢    Answer who-what-when-where questions\\nâ€¢    Classify and extract text\\n\\n\\nYou can also integrate NLP in customer-facing applications to communicate more effectively with customers. For example, a chatbot analyzes and sorts customer queries, responding automatically to common questions and redirecting complex queries to customer support. This automation helps reduce costs, saves agents from spending time on redundant queries, and improves customer satisfaction.\\n\\nWhat are NLP use cases for business?\\nBusinesses use natural language processing (NLP) software and tools to simplify, automate, and streamline operations efficiently and accurately. We give some example use cases below. \\n\\nSensitive data redaction\\n\\nBusinesses in the insurance, legal, and healthcare sectors process, sort, and retrieve large volumes of sensitive documents like medical records, financial data, and private data. Instead of reviewing manually, companies use NLP technology to redact personally identifiable information and protect sensitive data. For example, Chisel AI helps insurance carriers extract policy numbers, expiration dates, and other personal customer attributes from unstructured documents with Amazon Comprehend.\\n\\nCustomer engagement\\n\\nNLP technologies allow chat and voice bots to be more human-like when conversing with customers. Businesses use chatbots to scale customer service capability and quality while keeping operational costs to a minimum. PubNub, which builds chatbot software, uses Amazon Comprehend to introduce localized chat functionality for its global customers. T-Mobile uses NLP to identify specific keywords in customers\\' text messages and offer personalized recommendations. Oklahoma State University deploys a Q&A chatbot solution to address student questions using machine learning technology.\\n\\nBusiness analytics\\n\\nMarketers use NLP tools like Amazon Comprehend and Amazon Lex to gain an educated perception of what customers feel toward a company\\'s product or services. By scanning for specific phrases, they can gauge the customers\\' moods and emotions in written feedback. For example, Success KPI provides natural language processing solutions that help businesses focus on targeted areas in sentiment analysis and help contact centers derive actionable insights from call analytics.\\n\\nHow does NLP work?\\nNatural language processing (NLP) combines computational linguistics, machine learning, and deep learning models to process human language.\\n\\nComputational linguistics\\n\\nComputational linguistics is the science of understanding and constructing human language models with computers and software tools. Researchers use computational linguistics methods, such as syntactic and semantic analysis, to create frameworks that help machines understand conversational human language. Tools like language translators, text-to-speech synthesizers, and speech recognition software are based on computational linguistics. \\n\\nMachine learning\\n\\nMachine learning is a technology that trains a computer with sample data to improve its efficiency. Human language has several features like sarcasm, metaphors, variations in sentence structure, plus grammar and usage exceptions that take humans years to learn. Programmers use machine learning methods to teach NLP applications to recognize and accurately understand these features from the start.\\n\\nDeep learning\\n\\nDeep learning is a specific field of machine learning which teaches computers to learn and think like humans. It involves a neural network that consists of data processing nodes structured to resemble the human brain. With deep learning, computers recognize, classify, and co-relate complex patterns in the input data.\\n\\nNLP implementation steps\\n\\nTypically, NLP implementation begins by gathering and preparing unstructured text or speech data from sources like cloud data warehouses, surveys, emails, or internal business process applications.\\n\\nPre-processing\\n\\nThe NLP software uses pre-processing techniques such as tokenization, stemming, lemmatization, and stop word removal to prepare the data for various applications. \\n\\nHere\\'s a description of these techniques:\\n\\nTokenization breaks a sentence into individual units of words or phrases. \\nStemming and lemmatization simplify words into their root form. For example, these processes turn \"starting\" into \"start.\" \\nStop word removal ensures that words that do not add significant meaning to a sentence, such as \"for\" and \"with,\" are removed. \\nTraining\\n\\nResearchers use the pre-processed data and machine learning to train NLP models to perform specific applications based on the provided textual information. Training NLP algorithms requires feeding the software with large data samples to increase the algorithms\\' accuracy. \\n\\nDeployment and inference\\n\\nMachine learning experts then deploy the model or integrate it into an existing production environment. The NLP model receives input and predicts an output for the specific use case the model\\'s designed for. You can run the NLP application on live data and obtain the required output.\\n\\nWhat are NLP tasks?\\nNatural language processing (NLP) techniques, or NLP tasks, break down human text or speech into smaller parts that computer programs can easily understand. Common text processing and analyzing capabilities in NLP are given below. \\n\\nPart-f-speech tagging\\n\\nThis is a process where NLP software tags individual words in a sentence according to contextual usages, such as nouns, verbs, adjectives, or adverbs. It helps the computer understand how words form meaningful relationships with each other. \\n\\nWord-sense disambiguation\\n\\nSome words may hold different meanings when used in different scenarios. For example, the word \"bat\" means different things in these sentences:\\n\\nA bat is a nocturnal creature.\\nBaseball players use a bat to hit the ball.\\nWith word sense disambiguation, NLP software identifies a word\\'s intended meaning, either by training its language model or referring to dictionary definitions. \\n\\nSpeech recognition\\n\\nSpeech recognition turns voice data into text. The process involves breaking words into smaller parts and understandingaccents, slurs, intonation, and nonstandard grammar usage in everyday conversation. A key application of speech recognition is transcription, which can be done using speech-to-text services like Amazon Transcribe.\\n\\nMachine translation\\n\\nMachine translation software uses natural language processing to convert text or speech from one language to another while retaining contextual accuracy. The AWS service that supports machine translation is Amazon Translate.\\n\\nNamed-entity recognition\\n\\nThis process identifies unique names for people, places, events, companies, and more. NLP software uses named-entity recognition to determine the relationship between different entities in a sentence.\\n\\nConsider the following example: \"Jane went on a vacation to France, and she indulged herself in the local cuisines.\"\\n\\nThe NLP software will pick \"Jane\" and \"France\" as the special entities in the sentence. This can be further expanded by co-reference resolution, determining if different words are used to describe the same entity. In the above example, both \"Jane\" and \"she\" pointed to the same person. \\n\\nSentiment analysis\\n\\nSentiment analysis is an artificial intelligence-based approach to interpreting the emotion conveyed by textual data. NLP software analyzes the text for words or phrases that show dissatisfaction, happiness, doubt, regret, and other hidden emotions. ion.'"
      ]
     },
     "execution_count": 1,
     "metadata": {},
     "output_type": "execute_result"
    }
   ],
   "source": [
    "import numpy as np\n",
    "import nltk\n",
    "f=open(\"nlp.txt\",'r',errors='ignore')\n",
    "doc=f.read()\n",
    "doc"
   ]
  },
  {
   "cell_type": "code",
   "execution_count": 3,
   "id": "e650a025",
   "metadata": {},
   "outputs": [
    {
     "name": "stderr",
     "output_type": "stream",
     "text": [
      "[nltk_data] Downloading package punkt to\n",
      "[nltk_data]     C:\\Users\\Asus\\AppData\\Roaming\\nltk_data...\n",
      "[nltk_data]   Package punkt is already up-to-date!\n",
      "[nltk_data] Downloading package wordnet to\n",
      "[nltk_data]     C:\\Users\\Asus\\AppData\\Roaming\\nltk_data...\n",
      "[nltk_data]   Package wordnet is already up-to-date!\n"
     ]
    }
   ],
   "source": [
    "nltk.download('punkt')\n",
    "nltk.download('wordnet')\n",
    "from nltk.tokenize import sent_tokenize,word_tokenize\n",
    "sent_tokens=nltk.sent_tokenize(doc)\n",
    "word_tokens=nltk.word_tokenize(doc)"
   ]
  },
  {
   "cell_type": "code",
   "execution_count": 4,
   "id": "d8888c3f",
   "metadata": {},
   "outputs": [
    {
     "name": "stderr",
     "output_type": "stream",
     "text": [
      "[nltk_data] Downloading package stopwords to\n",
      "[nltk_data]     C:\\Users\\Asus\\AppData\\Roaming\\nltk_data...\n",
      "[nltk_data]   Package stopwords is already up-to-date!\n"
     ]
    }
   ],
   "source": [
    "nltk.download('stopwords')\n",
    "from nltk.corpus import stopwords\n",
    "data=[]\n",
    "for words in data:\n",
    "    if not words in stopwords.words('english'):\n",
    "        data.append(words)\n",
    "        data"
   ]
  },
  {
   "cell_type": "code",
   "execution_count": 5,
   "id": "6a71152b",
   "metadata": {},
   "outputs": [
    {
     "data": {
      "text/plain": [
       "[]"
      ]
     },
     "execution_count": 5,
     "metadata": {},
     "output_type": "execute_result"
    }
   ],
   "source": [
    "from nltk.stem import PorterStemmer\n",
    "stemmer=PorterStemmer()\n",
    "stemmer_data=[stemmer.stem(word) for word in data]\n",
    "stemmer_data"
   ]
  },
  {
   "cell_type": "code",
   "execution_count": 6,
   "id": "709dbf05",
   "metadata": {},
   "outputs": [
    {
     "name": "stderr",
     "output_type": "stream",
     "text": [
      "[nltk_data] Downloading package wordnet to\n",
      "[nltk_data]     C:\\Users\\Asus\\AppData\\Roaming\\nltk_data...\n",
      "[nltk_data]   Package wordnet is already up-to-date!\n"
     ]
    },
    {
     "data": {
      "text/plain": [
       "True"
      ]
     },
     "execution_count": 6,
     "metadata": {},
     "output_type": "execute_result"
    }
   ],
   "source": [
    "from nltk.stem.wordnet import WordNetLemmatizer\n",
    "import nltk\n",
    "lemm=nltk.stem.WordNetLemmatizer()\n",
    "nltk.download('wordnet')"
   ]
  },
  {
   "cell_type": "code",
   "execution_count": 10,
   "id": "ba76801c",
   "metadata": {},
   "outputs": [],
   "source": [
    "lem_data=[]\n",
    "for word in data:\n",
    "    lem_data.append(lemmer.lemmatize(word))\n",
    "    lem_data"
   ]
  },
  {
   "cell_type": "code",
   "execution_count": 9,
   "id": "6049a13d",
   "metadata": {},
   "outputs": [],
   "source": []
  },
  {
   "cell_type": "code",
   "execution_count": null,
   "id": "dc7c5764",
   "metadata": {},
   "outputs": [],
   "source": []
  }
 ],
 "metadata": {
  "kernelspec": {
   "display_name": "Python 3 (ipykernel)",
   "language": "python",
   "name": "python3"
  },
  "language_info": {
   "codemirror_mode": {
    "name": "ipython",
    "version": 3
   },
   "file_extension": ".py",
   "mimetype": "text/x-python",
   "name": "python",
   "nbconvert_exporter": "python",
   "pygments_lexer": "ipython3",
   "version": "3.10.9"
  }
 },
 "nbformat": 4,
 "nbformat_minor": 5
}
