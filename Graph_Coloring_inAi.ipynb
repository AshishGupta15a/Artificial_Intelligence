{
 "cells": [
  {
   "cell_type": "markdown",
   "id": "a0ce7080",
   "metadata": {},
   "source": [
    "# Graph Coloring Problem "
   ]
  },
  {
   "cell_type": "code",
   "execution_count": 1,
   "id": "0d46c41c",
   "metadata": {},
   "outputs": [],
   "source": [
    "import random\n",
    "import itertools\n",
    "import networkx as nx\n",
    "import matplotlib.pyplot as plt"
   ]
  },
  {
   "cell_type": "code",
   "execution_count": 2,
   "id": "49a6704c",
   "metadata": {},
   "outputs": [],
   "source": [
    "def is_valid_coloring(graph,coloring):\n",
    "    for u,v in graph.edges():\n",
    "        if coloring[u]==coloring[v]:\n",
    "            return False\n",
    "    return True   "
   ]
  },
  {
   "cell_type": "code",
   "execution_count": 3,
   "id": "eabee63d",
   "metadata": {},
   "outputs": [],
   "source": [
    "def greedy_coloring(graph):\n",
    "    coloring={}\n",
    "    for node in graph.nodes():\n",
    "        adjacent_colors={coloring.get(neighbor) for neighbor in graph.neighbors(node)}\n",
    "        coloring[node]=next(color for color in itertools.count() if color not in adjacent_colors)\n",
    "    return coloring"
   ]
  },
  {
   "cell_type": "code",
   "execution_count": 4,
   "id": "4839716f",
   "metadata": {},
   "outputs": [],
   "source": [
    "n_nodes=7"
   ]
  },
  {
   "cell_type": "code",
   "execution_count": 5,
   "id": "9b1546a8",
   "metadata": {},
   "outputs": [],
   "source": [
    "G=nx.Graph()\n",
    "G.add_nodes_from(range(n_nodes))"
   ]
  },
  {
   "cell_type": "code",
   "execution_count": 6,
   "id": "5b0b670f",
   "metadata": {},
   "outputs": [],
   "source": [
    "for i in range(n_nodes):\n",
    "    for j in range(i+1,n_nodes):\n",
    "        if random.random()<0.1:\n",
    "            G.add_edge(i,j)"
   ]
  },
  {
   "cell_type": "code",
   "execution_count": 7,
   "id": "3efd0186",
   "metadata": {},
   "outputs": [],
   "source": [
    "coloring_result=greedy_coloring(G)"
   ]
  },
  {
   "cell_type": "code",
   "execution_count": 8,
   "id": "0ae0d9ed",
   "metadata": {},
   "outputs": [
    {
     "name": "stdout",
     "output_type": "stream",
     "text": [
      "Coloring: {0: 0, 1: 1, 2: 0, 3: 1, 4: 0, 5: 0, 6: 1}\n",
      "Valid: True\n",
      "K: 2\n"
     ]
    }
   ],
   "source": [
    "print('Coloring:',coloring_result)\n",
    "print('Valid:',is_valid_coloring(G,coloring_result))\n",
    "print('K:',len(set(coloring_result.values())))"
   ]
  },
  {
   "cell_type": "code",
   "execution_count": 9,
   "id": "e4d7a694",
   "metadata": {},
   "outputs": [
    {
     "data": {
      "image/png": "[encoded data removed]",
      "text/plain": [
       "<Figure size 640x480 with 1 Axes>"
      ]
     },
     "metadata": {},
     "output_type": "display_data"
    }
   ],
   "source": [
    "color_map=[coloring_result[node] for node in G.nodes()]\n",
    "nx.draw_networkx(G, node_color=color_map, with_labels=True, font_weight='bold')\n",
    "plt.show()"
   ]
  },
  {
   "cell_type": "code",
   "execution_count": null,
   "id": "20be272a",
   "metadata": {},
   "outputs": [],
   "source": []
  }
 ],
 "metadata": {
  "kernelspec": {
   "display_name": "Python 3 (ipykernel)",
   "language": "python",
   "name": "python3"
  },
  "language_info": {
   "codemirror_mode": {
    "name": "ipython",
    "version": 3
   },
   "file_extension": ".py",
   "mimetype": "text/x-python",
   "name": "python",
   "nbconvert_exporter": "python",
   "pygments_lexer": "ipython3",
   "version": "3.10.9"
  }
 },
 "nbformat": 4,
 "nbformat_minor": 5
}
