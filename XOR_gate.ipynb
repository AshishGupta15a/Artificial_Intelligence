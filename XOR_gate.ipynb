{
 "cells": [
  {
   "cell_type": "markdown",
   "id": "53c3400b",
   "metadata": {},
   "source": [
    "# Implement XOR Gate"
   ]
  },
  {
   "cell_type": "code",
   "execution_count": 1,
   "id": "f98ac281",
   "metadata": {},
   "outputs": [],
   "source": [
    "def XOR_gate(x,y):\n",
    "    if x!=y:\n",
    "        return True\n",
    "    else:\n",
    "        return False\n",
    "    #True represents the value 1 and the False represents the value 0"
   ]
  },
  {
   "cell_type": "code",
   "execution_count": 2,
   "id": "95ae5bd1",
   "metadata": {},
   "outputs": [
    {
     "name": "stdout",
     "output_type": "stream",
     "text": [
      "False\n",
      "True\n",
      "True\n",
      "False\n"
     ]
    }
   ],
   "source": [
    "if __name__=='__main__':\n",
    "    print(XOR_gate(0,0))\n",
    "    print(XOR_gate(0,1))\n",
    "    print(XOR_gate(1,0))\n",
    "    print(XOR_gate(1,1))"
   ]
  }
 ],
 "metadata": {
  "kernelspec": {
   "display_name": "Python 3 (ipykernel)",
   "language": "python",
   "name": "python3"
  },
  "language_info": {
   "codemirror_mode": {
    "name": "ipython",
    "version": 3
   },
   "file_extension": ".py",
   "mimetype": "text/x-python",
   "name": "python",
   "nbconvert_exporter": "python",
   "pygments_lexer": "ipython3",
   "version": "3.10.9"
  }
 },
 "nbformat": 4,
 "nbformat_minor": 5
}
