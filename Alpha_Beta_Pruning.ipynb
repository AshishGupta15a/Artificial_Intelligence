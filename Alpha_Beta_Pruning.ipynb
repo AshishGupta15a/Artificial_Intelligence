{
 "cells": [
  {
   "cell_type": "markdown",
   "id": "ff4e9a6d",
   "metadata": {},
   "source": [
    "# Alpha-Beta Algorithm"
   ]
  },
  {
   "cell_type": "code",
   "execution_count": 11,
   "id": "97d0d9bd",
   "metadata": {},
   "outputs": [
    {
     "name": "stdout",
     "output_type": "stream",
     "text": [
      "The optimal value is : 15\n"
     ]
    }
   ],
   "source": [
    "MAX, MIN = 1000, -1000\n",
    "def minimax(depth, nodeIndex, maximizingPlayer, values, alpha, beta): \n",
    "        if depth == 3: \n",
    "            return values[nodeIndex] \n",
    "        if maximizingPlayer: \n",
    "            best = MIN\n",
    "            for i in range(0, 2): \n",
    "                val = minimax(depth + 1, nodeIndex * 2 + i,False, values, alpha, beta) \n",
    "                best = max(best, val) \n",
    "                alpha = max(alpha, best) \n",
    "                if beta <= alpha: \n",
    "                    break\n",
    "            return best \n",
    "        else:\n",
    "            best = MAX\n",
    "            for i in range(0, 2): \n",
    "                val = minimax(depth + 1, nodeIndex * 2 + i, True, values, alpha, beta) \n",
    "                best = min(best, val) \n",
    "                beta = min(beta, best) \n",
    "                if beta <= alpha: \n",
    "                    break\n",
    "            return best \n",
    "if __name__ == \"__main__\": \n",
    "    values = [10, 15, 36, 9, 11, 2, 30, -1]  \n",
    "    print(\"The optimal value is :\", minimax(0, 0, True, values, MIN, MAX)) "
   ]
  },
  {
   "cell_type": "code",
   "execution_count": null,
   "id": "1d21b4ff",
   "metadata": {},
   "outputs": [],
   "source": []
  }
 ],
 "metadata": {
  "kernelspec": {
   "display_name": "Python 3 (ipykernel)",
   "language": "python",
   "name": "python3"
  },
  "language_info": {
   "codemirror_mode": {
    "name": "ipython",
    "version": 3
   },
   "file_extension": ".py",
   "mimetype": "text/x-python",
   "name": "python",
   "nbconvert_exporter": "python",
   "pygments_lexer": "ipython3",
   "version": "3.10.9"
  }
 },
 "nbformat": 4,
 "nbformat_minor": 5
}
