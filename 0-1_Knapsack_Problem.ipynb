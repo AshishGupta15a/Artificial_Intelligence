{
 "cells": [
  {
   "cell_type": "markdown",
   "id": "59cb5c5f",
   "metadata": {},
   "source": [
    "# 0/1 Knapsack Problem Using Dynamic Programming"
   ]
  },
  {
   "cell_type": "code",
   "execution_count": 4,
   "id": "592994a3",
   "metadata": {},
   "outputs": [
    {
     "name": "stdout",
     "output_type": "stream",
     "text": [
      "Enter the number of items: 3\n",
      "Enter the value and weight for item 1: 10 1\n",
      "Enter the value and weight for item 2: 12 2\n",
      "Enter the value and weight for item 3: 28 4\n",
      "Enter the maximum weight of the knapsack: 6\n",
      "Maximum value: 40\n",
      "Selected items: Item 1, Item 2, Item 3, \n"
     ]
    }
   ],
   "source": [
    "def max(a, b):\n",
    "    return a if a > b else b\n",
    "def knapsack(values, weights, n, W):\n",
    "    dp = [[0 for _ in range(W + 1)] for _ in range(n + 1)]\n",
    "    selected = [0] * n  \n",
    "    for i in range(1, n + 1):\n",
    "        for w in range(1, W + 1):\n",
    "            if weights[i - 1] <= w:\n",
    "                if values[i - 1] + dp[i - 1][w - weights[i - 1]] > dp[i - 1][w]:\n",
    "                    dp[i][w] = values[i - 1] + dp[i - 1][w - weights[i - 1]]\n",
    "                    selected[i - 1] = 1  \n",
    "                else:\n",
    "                    dp[i][w] = dp[i - 1][w]\n",
    "            else:\n",
    "                dp[i][w] = dp[i - 1][w]\n",
    "    return dp[n][W], selected\n",
    "def main():\n",
    "    n = int(input(\"Enter the number of items: \"))\n",
    "    values = []\n",
    "    weights = []\n",
    "    for i in range(n):\n",
    "        value, weight = map(int, input(f\"Enter the value and weight for item {i + 1}: \").split())\n",
    "        values.append(value)\n",
    "        weights.append(weight)\n",
    "    W = int(input(\"Enter the maximum weight of the knapsack: \"))\n",
    "    maxValue, selected = knapsack(values, weights, n, W)\n",
    "    print(f\"Maximum value: {maxValue}\")\n",
    "    print(\"Selected items: \", end=\"\")\n",
    "    for i, isSelected in enumerate(selected):\n",
    "        if isSelected:\n",
    "            print(f\"Item {i + 1}, \", end=\"\")\n",
    "    print()\n",
    "if __name__ == \"__main__\":\n",
    "    main()"
   ]
  },
  {
   "cell_type": "code",
   "execution_count": null,
   "id": "161e14af",
   "metadata": {},
   "outputs": [],
   "source": []
  }
 ],
 "metadata": {
  "kernelspec": {
   "display_name": "Python 3 (ipykernel)",
   "language": "python",
   "name": "python3"
  },
  "language_info": {
   "codemirror_mode": {
    "name": "ipython",
    "version": 3
   },
   "file_extension": ".py",
   "mimetype": "text/x-python",
   "name": "python",
   "nbconvert_exporter": "python",
   "pygments_lexer": "ipython3",
   "version": "3.10.9"
  }
 },
 "nbformat": 4,
 "nbformat_minor": 5
}
