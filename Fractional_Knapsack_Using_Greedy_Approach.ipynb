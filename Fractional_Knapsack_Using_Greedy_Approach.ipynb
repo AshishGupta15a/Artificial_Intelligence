{
 "cells": [
  {
   "cell_type": "markdown",
   "id": "1fc4114a",
   "metadata": {},
   "source": [
    "# Fractional Knapsack Problem Using the Greedy Approach"
   ]
  },
  {
   "cell_type": "code",
   "execution_count": 1,
   "id": "4a0892c6",
   "metadata": {},
   "outputs": [
    {
     "name": "stdout",
     "output_type": "stream",
     "text": [
      "\n",
      "Please enter the number of items required: 3\n",
      "Please enter the value and weight for every item:\n",
      "60 10\n",
      "100 20\n",
      "120 30\n",
      "Please enter the max capacity: 50\n",
      "The Maximum value= 240.00\n"
     ]
    }
   ],
   "source": [
    "class Item:\n",
    "    def __init__(self, value, weight):\n",
    "        self.value = value\n",
    "        self.weight = weight\n",
    "def fractional_knapsack(items, capacity):\n",
    "    items.sort(key=lambda item: item.value/item.weight, reverse=True)\n",
    "    total_value = 0.0\n",
    "    for item in items:\n",
    "        if capacity == 0:\n",
    "            break\n",
    "        if item.weight <= capacity:\n",
    "            total_value += item.value\n",
    "            capacity -= item.weight\n",
    "        else:\n",
    "            total_value += (item.value / item.weight) * capacity\n",
    "            break\n",
    "    return total_value\n",
    "if __name__ == \"__main__\":\n",
    "    n = int(input(\"\\nPlease enter the number of items required: \"))\n",
    "    items = []\n",
    "    print(\"Please enter the value and weight for every item:\")\n",
    "    for _ in range(n):\n",
    "        value, weight = map(int, input().split())\n",
    "        items.append(Item(value, weight))\n",
    "    capacity = int(input(\"Please enter the max capacity: \"))\n",
    "    max_value = fractional_knapsack(items, capacity)\n",
    "    print(f\"The Maximum value= {max_value:.2f}\")"
   ]
  },
  {
   "cell_type": "code",
   "execution_count": null,
   "id": "5879abf0",
   "metadata": {},
   "outputs": [],
   "source": []
  },
  {
   "cell_type": "code",
   "execution_count": null,
   "id": "c6fca744",
   "metadata": {},
   "outputs": [],
   "source": []
  }
 ],
 "metadata": {
  "kernelspec": {
   "display_name": "Python 3 (ipykernel)",
   "language": "python",
   "name": "python3"
  },
  "language_info": {
   "codemirror_mode": {
    "name": "ipython",
    "version": 3
   },
   "file_extension": ".py",
   "mimetype": "text/x-python",
   "name": "python",
   "nbconvert_exporter": "python",
   "pygments_lexer": "ipython3",
   "version": "3.10.9"
  }
 },
 "nbformat": 4,
 "nbformat_minor": 5
}
