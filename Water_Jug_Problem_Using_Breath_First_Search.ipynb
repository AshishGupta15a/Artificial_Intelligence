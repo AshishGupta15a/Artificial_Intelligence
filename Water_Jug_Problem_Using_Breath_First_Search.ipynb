{
 "cells": [
  {
   "cell_type": "markdown",
   "id": "7f37fc07",
   "metadata": {},
   "source": [
    "# Water Jug Problem Using Breath First Search"
   ]
  },
  {
   "cell_type": "code",
   "execution_count": 2,
   "id": "fcdfbbd9",
   "metadata": {},
   "outputs": [
    {
     "name": "stdout",
     "output_type": "stream",
     "text": [
      "(0, 0)\n",
      "(0, 3)\n",
      "(4, 0)\n",
      "(1, 3)\n",
      "(3, 1)\n",
      "(2, 2)\n",
      "(2, 0)\n"
     ]
    }
   ],
   "source": [
    "def water_jug_bfs(a,b,target):\n",
    "    state_space = []\n",
    "    past_space_map = {}\n",
    "    state_space.append((0,0))\n",
    "    path = []\n",
    "    while(len(state_space)!=0):\n",
    "        x,y = state_space.pop()\n",
    "        if((x,y) in past_space_map):\n",
    "            continue\n",
    "        if(x>a or y>b or x<0 or y<0):\n",
    "            continue\n",
    "        path.append((x,y))\n",
    "        past_space_map[(x,y)] = 1\n",
    "        if(x == target or y == target):\n",
    "            if(x==target):\n",
    "                if(y!=0):\n",
    "                    path.append((x,0))\n",
    "            else:\n",
    "                if(x!=0):\n",
    "                    path.append((y,0))\n",
    "            for i in path:\n",
    "                print(i)\n",
    "            break\n",
    "        state_space.append((x,b))\n",
    "        state_space.append((a,y))\n",
    "        for i in range(max(a,b)+1):\n",
    "            c = x + i\n",
    "            d = y - i\n",
    "            if(c == a or d>=0):\n",
    "                state_space.append((c,d))\n",
    "            c = x -i\n",
    "            d = y + i\n",
    "            if(d==b or c>=0):\n",
    "                state_space.append((c,d))\n",
    "        state_space.append((a,0))\n",
    "        state_space.append((0,b))\n",
    "water_jug_bfs(4,3,2)\n"
   ]
  },
  {
   "cell_type": "code",
   "execution_count": null,
   "id": "fe9c1cbf",
   "metadata": {},
   "outputs": [],
   "source": []
  }
 ],
 "metadata": {
  "kernelspec": {
   "display_name": "Python 3 (ipykernel)",
   "language": "python",
   "name": "python3"
  },
  "language_info": {
   "codemirror_mode": {
    "name": "ipython",
    "version": 3
   },
   "file_extension": ".py",
   "mimetype": "text/x-python",
   "name": "python",
   "nbconvert_exporter": "python",
   "pygments_lexer": "ipython3",
   "version": "3.10.9"
  }
 },
 "nbformat": 4,
 "nbformat_minor": 5
}
