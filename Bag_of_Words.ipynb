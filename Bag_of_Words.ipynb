{
 "cells": [
  {
   "cell_type": "markdown",
   "id": "b66a5020",
   "metadata": {},
   "source": [
    "# Bag Of Words Algorithm"
   ]
  },
  {
   "cell_type": "code",
   "execution_count": 7,
   "id": "8753d559",
   "metadata": {},
   "outputs": [
    {
     "name": "stdout",
     "output_type": "stream",
     "text": [
      "['Bag-of-words(BoW) is a statistical language model used to analyze text and documents based on word count.', ' The model does not account for word order within a document.', ' BoW can be implemented as a Python dictionary with each key set to a word and each value set to the number of times that word appears in a text.']\n",
      "['is a to and on', 'the does not for a', 'can be as a with each to a and each to the of that in a']\n",
      "  (0, 8)\t1\n",
      "  (0, 14)\t1\n",
      "  (0, 0)\t1\n",
      "  (0, 11)\t1\n",
      "  (1, 13)\t1\n",
      "  (1, 4)\t1\n",
      "  (1, 9)\t1\n",
      "  (1, 6)\t1\n",
      "  (2, 14)\t2\n",
      "  (2, 0)\t1\n",
      "  (2, 13)\t1\n",
      "  (2, 3)\t1\n",
      "  (2, 2)\t1\n",
      "  (2, 1)\t1\n",
      "  (2, 15)\t1\n",
      "  (2, 5)\t2\n",
      "  (2, 10)\t1\n",
      "  (2, 12)\t1\n",
      "  (2, 7)\t1\n"
     ]
    }
   ],
   "source": [
    "from nltk.tokenize import word_tokenize\n",
    "import pandas as pd\n",
    "from sklearn.feature_extraction.text import CountVectorizer\n",
    "from nltk.corpus import stopwords\n",
    "pd.set_option('max_colwidth',100)\n",
    "texts=[\"Bag-of-words(BoW) is a statistical language model used to analyze text and documents based on word count.\",\n",
    "           \" The model does not account for word order within a document.\",\n",
    "           \" BoW can be implemented as a Python dictionary with each key set to a word and each value set to the number of times that word appears in a text.\"]\n",
    "print(texts)\n",
    "def preprocess(text):\n",
    "    text=text.lower()\n",
    "    words=word_tokenize(text)\n",
    "    words=[word for word in words if word in stopwords.words(\"english\")]\n",
    "    text=\" \".join(words)\n",
    "    return text\n",
    "texts=[preprocess(text) for text in texts]\n",
    "print(texts)\n",
    "vectorizer=CountVectorizer()\n",
    "bag_of_words=vectorizer.fit_transform(texts)\n",
    "print(bag_of_words)"
   ]
  },
  {
   "cell_type": "code",
   "execution_count": null,
   "id": "30d09477",
   "metadata": {},
   "outputs": [],
   "source": []
  }
 ],
 "metadata": {
  "kernelspec": {
   "display_name": "Python 3 (ipykernel)",
   "language": "python",
   "name": "python3"
  },
  "language_info": {
   "codemirror_mode": {
    "name": "ipython",
    "version": 3
   },
   "file_extension": ".py",
   "mimetype": "text/x-python",
   "name": "python",
   "nbconvert_exporter": "python",
   "pygments_lexer": "ipython3",
   "version": "3.10.9"
  }
 },
 "nbformat": 4,
 "nbformat_minor": 5
}
