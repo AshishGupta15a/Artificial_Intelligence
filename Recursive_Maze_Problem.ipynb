{
 "cells": [
  {
   "cell_type": "code",
   "execution_count": 1,
   "id": "0dcae5cf",
   "metadata": {},
   "outputs": [
    {
     "name": "stdout",
     "output_type": "stream",
     "text": [
      "Enter the size of the maze (n x n): 3\n",
      "Enter row 1 :010\n",
      "Enter row 2 :011\n",
      "Enter row 3 :000\n",
      "Enter the starting point row index: 0\n",
      "Enter the starting point column index: 0\n",
      "Enter the ending point row index: 2\n",
      "Enter the ending point column index: 2\n",
      "All possible solutions:\n",
      "Solution 1: [(0, 0), (1, 0), (2, 0), (2, 1), (2, 2)]\n"
     ]
    }
   ],
   "source": [
    "def solve_maze(maze, x, y, z, v, path=[]):\n",
    "    n = len(maze)\n",
    "#x represents the start row \n",
    "#y represents the start column\n",
    "#z represents the end row\n",
    "#v represents the end column\n",
    "    if not (0 <= x < n and 0 <= y < n):\n",
    "        return []  \n",
    "    if (x, y) == (z, v):\n",
    "        return [path + [(z, v)]]  \n",
    "    if maze[x][y] == 1 or ((x, y) in path):\n",
    "        return []  \n",
    "    path.append((x, y))\n",
    "    neighbors = [\n",
    "        (x + 1, y),\n",
    "        (x - 1, y),\n",
    "        (x, y + 1),\n",
    "        (x, y - 1)\n",
    "    ]\n",
    "    all_possible_paths = []\n",
    "    for neighbor_row, neighbor_col in neighbors:\n",
    "        new_solutions = solve_maze(maze, neighbor_row, neighbor_col, z, v, path.copy())\n",
    "        all_possible_paths.extend(new_solutions)\n",
    "    return all_possible_paths\n",
    "def get_user_input(n):\n",
    "    maze = []\n",
    "    for i in range(n):\n",
    "        row = []\n",
    "        while True:\n",
    "            row_input = input(f\"Enter row {i + 1} :\")\n",
    "            if len(row_input) == n and all(bit in '01' for bit in row_input):\n",
    "                row.extend(map(int, row_input))\n",
    "                break\n",
    "            else:\n",
    "                print(f\"Invalid input. Please enter {n} bits (0s and 1s) for the row.\")\n",
    "        maze.append(row)\n",
    "    return maze\n",
    "n = int(input(\"Enter the size of the maze (n x n): \"))\n",
    "user_maze = get_user_input(n)\n",
    "x = int(input(\"Enter the starting point row index: \"))\n",
    "y = int(input(\"Enter the starting point column index: \"))\n",
    "z = int(input(\"Enter the ending point row index: \"))\n",
    "v = int(input(\"Enter the ending point column index: \"))\n",
    "solutions = solve_maze(user_maze, x, y, z, v)\n",
    "if not solutions:\n",
    "    print(\"No solution found.\")\n",
    "else:\n",
    "    print(\"All possible solutions:\")\n",
    "    for i, solution in enumerate(solutions, 1):\n",
    "        print(f\"Solution {i}: {solution}\")"
   ]
  }
 ],
 "metadata": {
  "kernelspec": {
   "display_name": "Python 3 (ipykernel)",
   "language": "python",
   "name": "python3"
  },
  "language_info": {
   "codemirror_mode": {
    "name": "ipython",
    "version": 3
   },
   "file_extension": ".py",
   "mimetype": "text/x-python",
   "name": "python",
   "nbconvert_exporter": "python",
   "pygments_lexer": "ipython3",
   "version": "3.10.9"
  }
 },
 "nbformat": 4,
 "nbformat_minor": 5
}
